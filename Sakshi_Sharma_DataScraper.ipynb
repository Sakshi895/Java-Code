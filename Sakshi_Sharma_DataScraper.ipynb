{
  "nbformat": 4,
  "nbformat_minor": 0,
  "metadata": {
    "colab": {
      "provenance": [],
      "authorship_tag": "ABX9TyMeObtBA/nuGg8KLUnW8i5f",
      "include_colab_link": true
    },
    "kernelspec": {
      "name": "python3",
      "display_name": "Python 3"
    },
    "language_info": {
      "name": "python"
    }
  },
  "cells": [
    {
      "cell_type": "markdown",
      "metadata": {
        "id": "view-in-github",
        "colab_type": "text"
      },
      "source": [
        "<a href=\"https://colab.research.google.com/github/Sakshi895/Java-Code/blob/main/Sakshi_Sharma_DataScraper.ipynb\" target=\"_parent\"><img src=\"https://colab.research.google.com/assets/colab-badge.svg\" alt=\"Open In Colab\"/></a>"
      ]
    },
    {
      "cell_type": "code",
      "source": [
        "import requests\n",
        "from bs4 import BeautifulSoup\n",
        "from datetime import datetime as date"
      ],
      "metadata": {
        "id": "FkFjLpND9bFx"
      },
      "execution_count": null,
      "outputs": []
    },
    {
      "cell_type": "code",
      "source": [
        "\n",
        "#Enter a  word here\n",
        "searchterm = input(\"Enter a Search Term: \")\n",
        "\n",
        "#enter the minimal severity\n",
        "minseverity = input(\"Type in a minimum severity value (1-10): \")\n",
        "\n",
        "#Enter the start and end dates here.\n",
        "stdate = input(\"Type in start publish date(MM-DD-YYYY): \")\n",
        "\n",
        "\n",
        "endate = input(\"Type in end publish date (MM-DD-YYYY): \")\n",
        "\n",
        "\n",
        "str_date = stdate.split('-')\n",
        "#printingTheStartingDate\n",
        "stdate = date(int(str_date[2]), int(str_date[0]), int(str_date[1]))\n",
        "str_date = endate.split('-')\n",
        "endate = date(int(str_date[2]), int(str_date[0]), int(str_date[1]))\n",
        "\n",
        "\n"
      ],
      "metadata": {
        "colab": {
          "base_uri": "https://localhost:8080/"
        },
        "id": "-tPRYkW19eCS",
        "outputId": "f493cda3-e9c0-4cd9-e522-f5c14a2491c1"
      },
      "execution_count": null,
      "outputs": [
        {
          "name": "stdout",
          "output_type": "stream",
          "text": [
            "Enter a Search Term: splunk\n",
            "Type in a minimum severity value (1-10): 8\n",
            "Type in start publish date(MM-DD-YYYY): 09-3-2019\n",
            "Type in end publish date (MM-DD-YYYY): 08-07-2023\n"
          ]
        }
      ]
    },
    {
      "cell_type": "markdown",
      "source": [
        "# New Section"
      ],
      "metadata": {
        "id": "_VN6O7OCKt3h"
      }
    },
    {
      "cell_type": "code",
      "source": [
        "url = 'https://nvd.nist.gov/vuln/search/results?form_type=Basic&results_type=overview&query='+searchterm+'&search_type=all&startIndex=0'\n",
        "\n",
        "response = requests.get(url)\n",
        "content = response.content\n",
        "\n",
        "soup = BeautifulSoup(content, 'lxml')\n"
      ],
      "metadata": {
        "id": "AAANu0eI-CEj"
      },
      "execution_count": null,
      "outputs": []
    },
    {
      "cell_type": "code",
      "source": [
        "sum = soup.find('strong', {\"data-testid\": \"vuln-matching-records-count\"}).text\n",
        "\n",
        "pages = int(sum) // 20 + 1\n",
        "print(\"The search returned \"+ sum +\" results. Use the following criteria to refine your search.\\nThere are \"+ str(pages) +\" pages.\\n\")\n",
        "# outcome"
      ],
      "metadata": {
        "colab": {
          "base_uri": "https://localhost:8080/"
        },
        "id": "JAWURg_JAAbT",
        "outputId": "0d6944f9-3e4d-4b24-c6d8-84c9c108a65f"
      },
      "execution_count": null,
      "outputs": [
        {
          "output_type": "stream",
          "name": "stdout",
          "text": [
            "The search returned 127 results. Use the following criteria to refine your search.\n",
            "There are 7 pages.\n",
            "\n"
          ]
        }
      ]
    },
    {
      "cell_type": "code",
      "source": [
        "\n",
        "vuls =[]\n",
        "\n",
        "\n",
        "summaries=[]\n",
        "\n",
        "\n",
        "severities = []\n",
        "\n",
        "\n",
        "publishdates = []\n",
        "\n",
        "urls = []\n",
        "\n",
        "for page in range(pages):\n",
        "\n",
        "    table = soup.find(\"table\")\n",
        "    url = 'https://nvd.nist.gov/vuln/search/results?form_type=Basic&results_type=overview&query='+searchterm+'&search_type=all&startIndex='+ str(page *20)\n",
        "    response = requests.get(url)\n",
        "    content = response.content\n",
        "    soup = BeautifulSoup(content, 'lxml')\n",
        "\n",
        "    rows = table.findAll('tr')\n",
        "\n",
        "    print(\"We are on page #\"+str(page+1)+\"\\n\"+url+\"\\n\")\n",
        "\n",
        "    for tr in rows[1:]:\n",
        "        vul = tr.find('th').find('a').text\n",
        "        vuls.append(vul)\n",
        "\n",
        "        summary = tr.find('td').find('p').text\n",
        "\n",
        "        summaries.append(summary)\n",
        "\n",
        "        severity = \"\"\n",
        "        try:\n",
        "            severity = tr.find_all('td')[1].find('a').text.split(' ')[0]\n",
        "        except:\n",
        "            severity = \"10\"\n",
        "        severities.append(severity)    # If a score is unavailable, a score of 10 will be given instead.\n",
        "\n",
        "        publishdate = tr.find('td').find('span').text.replace(',',\"\").split(';')[0].split(' ')\n",
        "        MONTHS = ['January', 'February', 'March', 'April', 'May', 'June', 'July', 'August', 'September', 'October', 'November', 'December']\n",
        "        publishdate[0] = MONTHS.index(publishdate[0]) + 1\n",
        "        publishdate[1] = int(publishdate[1])\n",
        "        publishdate[2] = int(publishdate[2])\n",
        "        publishdate = date(publishdate[2], publishdate[0], publishdate[1])\n",
        "        publishdates.append(publishdate)\n",
        "\n",
        "        urls.append(\"https://nvd.nist.gov/vuln/detail/\"+vul)    # GivenResult"
      ],
      "metadata": {
        "colab": {
          "base_uri": "https://localhost:8080/"
        },
        "id": "hRGkOJ4aAYB5",
        "outputId": "d37d30a4-4749-429f-e306-f8203fc368a0"
      },
      "execution_count": null,
      "outputs": [
        {
          "output_type": "stream",
          "name": "stdout",
          "text": [
            "We are on page #1\n",
            "https://nvd.nist.gov/vuln/search/results?form_type=Basic&results_type=overview&query=splunk&search_type=all&startIndex=0\n",
            "\n",
            "We are on page #2\n",
            "https://nvd.nist.gov/vuln/search/results?form_type=Basic&results_type=overview&query=splunk&search_type=all&startIndex=20\n",
            "\n",
            "We are on page #3\n",
            "https://nvd.nist.gov/vuln/search/results?form_type=Basic&results_type=overview&query=splunk&search_type=all&startIndex=40\n",
            "\n",
            "We are on page #4\n",
            "https://nvd.nist.gov/vuln/search/results?form_type=Basic&results_type=overview&query=splunk&search_type=all&startIndex=60\n",
            "\n",
            "We are on page #5\n",
            "https://nvd.nist.gov/vuln/search/results?form_type=Basic&results_type=overview&query=splunk&search_type=all&startIndex=80\n",
            "\n",
            "We are on page #6\n",
            "https://nvd.nist.gov/vuln/search/results?form_type=Basic&results_type=overview&query=splunk&search_type=all&startIndex=100\n",
            "\n",
            "We are on page #7\n",
            "https://nvd.nist.gov/vuln/search/results?form_type=Basic&results_type=overview&query=splunk&search_type=all&startIndex=120\n",
            "\n"
          ]
        }
      ]
    },
    {
      "cell_type": "code",
      "source": [
        "pip install pandas\n"
      ],
      "metadata": {
        "colab": {
          "base_uri": "https://localhost:8080/"
        },
        "id": "e7c8MbyR5_Xw",
        "outputId": "d205761b-628e-4b80-88db-c1c612bd94c3"
      },
      "execution_count": null,
      "outputs": [
        {
          "output_type": "stream",
          "name": "stdout",
          "text": [
            "Requirement already satisfied: pandas in /usr/local/lib/python3.10/dist-packages (1.5.3)\n",
            "Requirement already satisfied: python-dateutil>=2.8.1 in /usr/local/lib/python3.10/dist-packages (from pandas) (2.8.2)\n",
            "Requirement already satisfied: pytz>=2020.1 in /usr/local/lib/python3.10/dist-packages (from pandas) (2023.4)\n",
            "Requirement already satisfied: numpy>=1.21.0 in /usr/local/lib/python3.10/dist-packages (from pandas) (1.25.2)\n",
            "Requirement already satisfied: six>=1.5 in /usr/local/lib/python3.10/dist-packages (from python-dateutil>=2.8.1->pandas) (1.16.0)\n"
          ]
        }
      ]
    },
    {
      "cell_type": "code",
      "source": [
        "import pandas as pd\n",
        "\n",
        "# ... (your existing code)\n",
        "\n",
        "# Create a DataFrame using the lists\n",
        "data = {'Vulnerability': vuls, 'Summary': summaries, 'Severity': severities, 'Publish Date': publishdates, 'URL': urls}\n",
        "df = pd.DataFrame(data)\n",
        "\n",
        "# Specify the Excel file path\n",
        "excel_file_path = 'vulnerabilities_data.xlsx'\n",
        "\n",
        "# Save the DataFrame to an Excel file\n",
        "df.to_excel(excel_file_path, index=False)\n",
        "\n",
        "print(f'Data exported to {excel_file_path}')\n"
      ],
      "metadata": {
        "colab": {
          "base_uri": "https://localhost:8080/"
        },
        "id": "zWaxMosd6BBP",
        "outputId": "8188591d-cae1-4fd2-d8ae-f626700653cb"
      },
      "execution_count": null,
      "outputs": [
        {
          "output_type": "stream",
          "name": "stdout",
          "text": [
            "Data exported to vulnerabilities_data.xlsx\n"
          ]
        }
      ]
    }
  ]
}